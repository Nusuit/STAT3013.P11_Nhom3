{
  "nbformat": 4,
  "nbformat_minor": 0,
  "metadata": {
    "colab": {
      "provenance": [],
      "gpuType": "T4",
      "include_colab_link": true
    },
    "kernelspec": {
      "name": "python3",
      "display_name": "Python 3"
    },
    "language_info": {
      "name": "python"
    },
    "accelerator": "GPU"
  },
  "cells": [
    {
      "cell_type": "markdown",
      "metadata": {
        "id": "view-in-github",
        "colab_type": "text"
      },
      "source": [
        "<a href=\"https://colab.research.google.com/github/Nusuit/Statistical_Analysis/blob/22520772_NguyenThiHuyenLinh/StaDes.ipynb\" target=\"_parent\"><img src=\"https://colab.research.google.com/assets/colab-badge.svg\" alt=\"Open In Colab\"/></a>"
      ]
    },
    {
      "cell_type": "markdown",
      "source": [
        "**Predict feedback and score in 2-3 months**"
      ],
      "metadata": {
        "id": "j-kxMsVbONUs"
      }
    },
    {
      "cell_type": "code",
      "execution_count": null,
      "metadata": {
        "id": "QFZcYRyHoI2t",
        "colab": {
          "base_uri": "https://localhost:8080/",
          "height": 356
        },
        "outputId": "d16db245-b146-4873-b175-f51f552537bb"
      },
      "outputs": [
        {
          "output_type": "error",
          "ename": "KeyboardInterrupt",
          "evalue": "",
          "traceback": [
            "\u001b[0;31m---------------------------------------------------------------------------\u001b[0m",
            "\u001b[0;31mKeyboardInterrupt\u001b[0m                         Traceback (most recent call last)",
            "\u001b[0;32m<ipython-input-1-5df020a2dca2>\u001b[0m in \u001b[0;36m<cell line: 1>\u001b[0;34m()\u001b[0m\n\u001b[0;32m----> 1\u001b[0;31m \u001b[0;32mimport\u001b[0m \u001b[0mpandas\u001b[0m \u001b[0;32mas\u001b[0m \u001b[0mpd\u001b[0m\u001b[0;34m\u001b[0m\u001b[0;34m\u001b[0m\u001b[0m\n\u001b[0m\u001b[1;32m      2\u001b[0m \u001b[0;32mimport\u001b[0m \u001b[0mnumpy\u001b[0m \u001b[0;32mas\u001b[0m \u001b[0mnp\u001b[0m\u001b[0;34m\u001b[0m\u001b[0;34m\u001b[0m\u001b[0m\n\u001b[1;32m      3\u001b[0m \u001b[0;32mimport\u001b[0m \u001b[0mstatistics\u001b[0m \u001b[0;32mas\u001b[0m \u001b[0mst\u001b[0m\u001b[0;34m\u001b[0m\u001b[0;34m\u001b[0m\u001b[0m\n\u001b[1;32m      4\u001b[0m \u001b[0;32mfrom\u001b[0m \u001b[0mscipy\u001b[0m \u001b[0;32mimport\u001b[0m \u001b[0mstats\u001b[0m\u001b[0;34m\u001b[0m\u001b[0;34m\u001b[0m\u001b[0m\n\u001b[1;32m      5\u001b[0m \u001b[0;32mimport\u001b[0m \u001b[0mos\u001b[0m\u001b[0;34m\u001b[0m\u001b[0;34m\u001b[0m\u001b[0m\n",
            "\u001b[0;32m/usr/local/lib/python3.10/dist-packages/pandas/__init__.py\u001b[0m in \u001b[0;36m<module>\u001b[0;34m\u001b[0m\n\u001b[1;32m     47\u001b[0m \u001b[0;32mimport\u001b[0m \u001b[0mpandas\u001b[0m\u001b[0;34m.\u001b[0m\u001b[0mcore\u001b[0m\u001b[0;34m.\u001b[0m\u001b[0mconfig_init\u001b[0m  \u001b[0;31m# pyright: ignore[reportUnusedImport] # noqa: F401\u001b[0m\u001b[0;34m\u001b[0m\u001b[0;34m\u001b[0m\u001b[0m\n\u001b[1;32m     48\u001b[0m \u001b[0;34m\u001b[0m\u001b[0m\n\u001b[0;32m---> 49\u001b[0;31m from pandas.core.api import (\n\u001b[0m\u001b[1;32m     50\u001b[0m     \u001b[0;31m# dtype\u001b[0m\u001b[0;34m\u001b[0m\u001b[0;34m\u001b[0m\u001b[0m\n\u001b[1;32m     51\u001b[0m     \u001b[0mArrowDtype\u001b[0m\u001b[0;34m,\u001b[0m\u001b[0;34m\u001b[0m\u001b[0;34m\u001b[0m\u001b[0m\n",
            "\u001b[0;32m/usr/local/lib/python3.10/dist-packages/pandas/core/api.py\u001b[0m in \u001b[0;36m<module>\u001b[0;34m\u001b[0m\n\u001b[1;32m     45\u001b[0m \u001b[0;32mfrom\u001b[0m \u001b[0mpandas\u001b[0m\u001b[0;34m.\u001b[0m\u001b[0mcore\u001b[0m\u001b[0;34m.\u001b[0m\u001b[0mconstruction\u001b[0m \u001b[0;32mimport\u001b[0m \u001b[0marray\u001b[0m\u001b[0;34m\u001b[0m\u001b[0;34m\u001b[0m\u001b[0m\n\u001b[1;32m     46\u001b[0m \u001b[0;32mfrom\u001b[0m \u001b[0mpandas\u001b[0m\u001b[0;34m.\u001b[0m\u001b[0mcore\u001b[0m\u001b[0;34m.\u001b[0m\u001b[0mflags\u001b[0m \u001b[0;32mimport\u001b[0m \u001b[0mFlags\u001b[0m\u001b[0;34m\u001b[0m\u001b[0;34m\u001b[0m\u001b[0m\n\u001b[0;32m---> 47\u001b[0;31m from pandas.core.groupby import (\n\u001b[0m\u001b[1;32m     48\u001b[0m     \u001b[0mGrouper\u001b[0m\u001b[0;34m,\u001b[0m\u001b[0;34m\u001b[0m\u001b[0;34m\u001b[0m\u001b[0m\n\u001b[1;32m     49\u001b[0m     \u001b[0mNamedAgg\u001b[0m\u001b[0;34m,\u001b[0m\u001b[0;34m\u001b[0m\u001b[0;34m\u001b[0m\u001b[0m\n",
            "\u001b[0;32m/usr/local/lib/python3.10/dist-packages/pandas/core/groupby/__init__.py\u001b[0m in \u001b[0;36m<module>\u001b[0;34m\u001b[0m\n\u001b[0;32m----> 1\u001b[0;31m from pandas.core.groupby.generic import (\n\u001b[0m\u001b[1;32m      2\u001b[0m     \u001b[0mDataFrameGroupBy\u001b[0m\u001b[0;34m,\u001b[0m\u001b[0;34m\u001b[0m\u001b[0;34m\u001b[0m\u001b[0m\n\u001b[1;32m      3\u001b[0m     \u001b[0mNamedAgg\u001b[0m\u001b[0;34m,\u001b[0m\u001b[0;34m\u001b[0m\u001b[0;34m\u001b[0m\u001b[0m\n\u001b[1;32m      4\u001b[0m     \u001b[0mSeriesGroupBy\u001b[0m\u001b[0;34m,\u001b[0m\u001b[0;34m\u001b[0m\u001b[0;34m\u001b[0m\u001b[0m\n\u001b[1;32m      5\u001b[0m )\n",
            "\u001b[0;32m/usr/local/lib/python3.10/dist-packages/pandas/core/groupby/generic.py\u001b[0m in \u001b[0;36m<module>\u001b[0;34m\u001b[0m\n\u001b[1;32m     66\u001b[0m )\n\u001b[1;32m     67\u001b[0m \u001b[0;32mimport\u001b[0m \u001b[0mpandas\u001b[0m\u001b[0;34m.\u001b[0m\u001b[0mcore\u001b[0m\u001b[0;34m.\u001b[0m\u001b[0mcommon\u001b[0m \u001b[0;32mas\u001b[0m \u001b[0mcom\u001b[0m\u001b[0;34m\u001b[0m\u001b[0;34m\u001b[0m\u001b[0m\n\u001b[0;32m---> 68\u001b[0;31m \u001b[0;32mfrom\u001b[0m \u001b[0mpandas\u001b[0m\u001b[0;34m.\u001b[0m\u001b[0mcore\u001b[0m\u001b[0;34m.\u001b[0m\u001b[0mframe\u001b[0m \u001b[0;32mimport\u001b[0m \u001b[0mDataFrame\u001b[0m\u001b[0;34m\u001b[0m\u001b[0;34m\u001b[0m\u001b[0m\n\u001b[0m\u001b[1;32m     69\u001b[0m from pandas.core.groupby import (\n\u001b[1;32m     70\u001b[0m     \u001b[0mbase\u001b[0m\u001b[0;34m,\u001b[0m\u001b[0;34m\u001b[0m\u001b[0;34m\u001b[0m\u001b[0m\n",
            "\u001b[0;32m/usr/local/lib/python3.10/dist-packages/pandas/core/frame.py\u001b[0m in \u001b[0;36m<module>\u001b[0;34m\u001b[0m\n\u001b[1;32m    147\u001b[0m     \u001b[0msanitize_masked_array\u001b[0m\u001b[0;34m,\u001b[0m\u001b[0;34m\u001b[0m\u001b[0;34m\u001b[0m\u001b[0m\n\u001b[1;32m    148\u001b[0m )\n\u001b[0;32m--> 149\u001b[0;31m from pandas.core.generic import (\n\u001b[0m\u001b[1;32m    150\u001b[0m     \u001b[0mNDFrame\u001b[0m\u001b[0;34m,\u001b[0m\u001b[0;34m\u001b[0m\u001b[0;34m\u001b[0m\u001b[0m\n\u001b[1;32m    151\u001b[0m     \u001b[0mmake_doc\u001b[0m\u001b[0;34m,\u001b[0m\u001b[0;34m\u001b[0m\u001b[0;34m\u001b[0m\u001b[0m\n",
            "\u001b[0;32m/usr/local/lib/python3.10/dist-packages/pandas/core/generic.py\u001b[0m in \u001b[0;36m<module>\u001b[0;34m\u001b[0m\n\u001b[1;32m    242\u001b[0m \u001b[0;34m\u001b[0m\u001b[0m\n\u001b[1;32m    243\u001b[0m \u001b[0;34m\u001b[0m\u001b[0m\n\u001b[0;32m--> 244\u001b[0;31m \u001b[0;32mclass\u001b[0m \u001b[0mNDFrame\u001b[0m\u001b[0;34m(\u001b[0m\u001b[0mPandasObject\u001b[0m\u001b[0;34m,\u001b[0m \u001b[0mindexing\u001b[0m\u001b[0;34m.\u001b[0m\u001b[0mIndexingMixin\u001b[0m\u001b[0;34m)\u001b[0m\u001b[0;34m:\u001b[0m\u001b[0;34m\u001b[0m\u001b[0;34m\u001b[0m\u001b[0m\n\u001b[0m\u001b[1;32m    245\u001b[0m     \"\"\"\n\u001b[1;32m    246\u001b[0m     \u001b[0mN\u001b[0m\u001b[0;34m-\u001b[0m\u001b[0mdimensional\u001b[0m \u001b[0manalogue\u001b[0m \u001b[0mof\u001b[0m \u001b[0mDataFrame\u001b[0m\u001b[0;34m.\u001b[0m \u001b[0mStore\u001b[0m \u001b[0mmulti\u001b[0m\u001b[0;34m-\u001b[0m\u001b[0mdimensional\u001b[0m \u001b[0;32min\u001b[0m \u001b[0ma\u001b[0m\u001b[0;34m\u001b[0m\u001b[0;34m\u001b[0m\u001b[0m\n",
            "\u001b[0;32m/usr/local/lib/python3.10/dist-packages/pandas/core/generic.py\u001b[0m in \u001b[0;36mNDFrame\u001b[0;34m()\u001b[0m\n\u001b[1;32m  10188\u001b[0m         \u001b[0maxes_single_arg\u001b[0m\u001b[0;34m=\u001b[0m\u001b[0m_shared_doc_kwargs\u001b[0m\u001b[0;34m[\u001b[0m\u001b[0;34m\"axes_single_arg\"\u001b[0m\u001b[0;34m]\u001b[0m\u001b[0;34m,\u001b[0m\u001b[0;34m\u001b[0m\u001b[0;34m\u001b[0m\u001b[0m\n\u001b[1;32m  10189\u001b[0m     )\n\u001b[0;32m> 10190\u001b[0;31m     def align(\n\u001b[0m\u001b[1;32m  10191\u001b[0m         \u001b[0mself\u001b[0m\u001b[0;34m,\u001b[0m\u001b[0;34m\u001b[0m\u001b[0;34m\u001b[0m\u001b[0m\n\u001b[1;32m  10192\u001b[0m         \u001b[0mother\u001b[0m\u001b[0;34m:\u001b[0m \u001b[0mNDFrameT\u001b[0m\u001b[0;34m,\u001b[0m\u001b[0;34m\u001b[0m\u001b[0;34m\u001b[0m\u001b[0m\n",
            "\u001b[0;32m/usr/local/lib/python3.10/dist-packages/pandas/util/_decorators.py\u001b[0m in \u001b[0;36mdecorator\u001b[0;34m(decorated)\u001b[0m\n\u001b[1;32m    365\u001b[0m         \u001b[0mdocstring_components\u001b[0m\u001b[0;34m:\u001b[0m \u001b[0mlist\u001b[0m\u001b[0;34m[\u001b[0m\u001b[0mstr\u001b[0m \u001b[0;34m|\u001b[0m \u001b[0mCallable\u001b[0m\u001b[0;34m]\u001b[0m \u001b[0;34m=\u001b[0m \u001b[0;34m[\u001b[0m\u001b[0;34m]\u001b[0m\u001b[0;34m\u001b[0m\u001b[0;34m\u001b[0m\u001b[0m\n\u001b[1;32m    366\u001b[0m         \u001b[0;32mif\u001b[0m \u001b[0mdecorated\u001b[0m\u001b[0;34m.\u001b[0m\u001b[0m__doc__\u001b[0m\u001b[0;34m:\u001b[0m\u001b[0;34m\u001b[0m\u001b[0;34m\u001b[0m\u001b[0m\n\u001b[0;32m--> 367\u001b[0;31m             \u001b[0mdocstring_components\u001b[0m\u001b[0;34m.\u001b[0m\u001b[0mappend\u001b[0m\u001b[0;34m(\u001b[0m\u001b[0mdedent\u001b[0m\u001b[0;34m(\u001b[0m\u001b[0mdecorated\u001b[0m\u001b[0;34m.\u001b[0m\u001b[0m__doc__\u001b[0m\u001b[0;34m)\u001b[0m\u001b[0;34m)\u001b[0m\u001b[0;34m\u001b[0m\u001b[0;34m\u001b[0m\u001b[0m\n\u001b[0m\u001b[1;32m    368\u001b[0m \u001b[0;34m\u001b[0m\u001b[0m\n\u001b[1;32m    369\u001b[0m         \u001b[0;32mfor\u001b[0m \u001b[0mdocstring\u001b[0m \u001b[0;32min\u001b[0m \u001b[0mdocstrings\u001b[0m\u001b[0;34m:\u001b[0m\u001b[0;34m\u001b[0m\u001b[0;34m\u001b[0m\u001b[0m\n",
            "\u001b[0;32m/usr/lib/python3.10/textwrap.py\u001b[0m in \u001b[0;36mdedent\u001b[0;34m(text)\u001b[0m\n\u001b[1;32m    467\u001b[0m \u001b[0;34m\u001b[0m\u001b[0m\n\u001b[1;32m    468\u001b[0m     \u001b[0;32mif\u001b[0m \u001b[0mmargin\u001b[0m\u001b[0;34m:\u001b[0m\u001b[0;34m\u001b[0m\u001b[0;34m\u001b[0m\u001b[0m\n\u001b[0;32m--> 469\u001b[0;31m         \u001b[0mtext\u001b[0m \u001b[0;34m=\u001b[0m \u001b[0mre\u001b[0m\u001b[0;34m.\u001b[0m\u001b[0msub\u001b[0m\u001b[0;34m(\u001b[0m\u001b[0;34mr'(?m)^'\u001b[0m \u001b[0;34m+\u001b[0m \u001b[0mmargin\u001b[0m\u001b[0;34m,\u001b[0m \u001b[0;34m''\u001b[0m\u001b[0;34m,\u001b[0m \u001b[0mtext\u001b[0m\u001b[0;34m)\u001b[0m\u001b[0;34m\u001b[0m\u001b[0;34m\u001b[0m\u001b[0m\n\u001b[0m\u001b[1;32m    470\u001b[0m     \u001b[0;32mreturn\u001b[0m \u001b[0mtext\u001b[0m\u001b[0;34m\u001b[0m\u001b[0;34m\u001b[0m\u001b[0m\n\u001b[1;32m    471\u001b[0m \u001b[0;34m\u001b[0m\u001b[0m\n",
            "\u001b[0;32m/usr/lib/python3.10/re.py\u001b[0m in \u001b[0;36msub\u001b[0;34m(pattern, repl, string, count, flags)\u001b[0m\n\u001b[1;32m    207\u001b[0m     \u001b[0ma\u001b[0m \u001b[0mcallable\u001b[0m\u001b[0;34m,\u001b[0m \u001b[0mit\u001b[0m\u001b[0;31m'\u001b[0m\u001b[0ms\u001b[0m \u001b[0mpassed\u001b[0m \u001b[0mthe\u001b[0m \u001b[0mMatch\u001b[0m \u001b[0mobject\u001b[0m \u001b[0;32mand\u001b[0m \u001b[0mmust\u001b[0m \u001b[0;32mreturn\u001b[0m\u001b[0;34m\u001b[0m\u001b[0;34m\u001b[0m\u001b[0m\n\u001b[1;32m    208\u001b[0m     a replacement string to be used.\"\"\"\n\u001b[0;32m--> 209\u001b[0;31m     \u001b[0;32mreturn\u001b[0m \u001b[0m_compile\u001b[0m\u001b[0;34m(\u001b[0m\u001b[0mpattern\u001b[0m\u001b[0;34m,\u001b[0m \u001b[0mflags\u001b[0m\u001b[0;34m)\u001b[0m\u001b[0;34m.\u001b[0m\u001b[0msub\u001b[0m\u001b[0;34m(\u001b[0m\u001b[0mrepl\u001b[0m\u001b[0;34m,\u001b[0m \u001b[0mstring\u001b[0m\u001b[0;34m,\u001b[0m \u001b[0mcount\u001b[0m\u001b[0;34m)\u001b[0m\u001b[0;34m\u001b[0m\u001b[0;34m\u001b[0m\u001b[0m\n\u001b[0m\u001b[1;32m    210\u001b[0m \u001b[0;34m\u001b[0m\u001b[0m\n\u001b[1;32m    211\u001b[0m \u001b[0;32mdef\u001b[0m \u001b[0msubn\u001b[0m\u001b[0;34m(\u001b[0m\u001b[0mpattern\u001b[0m\u001b[0;34m,\u001b[0m \u001b[0mrepl\u001b[0m\u001b[0;34m,\u001b[0m \u001b[0mstring\u001b[0m\u001b[0;34m,\u001b[0m \u001b[0mcount\u001b[0m\u001b[0;34m=\u001b[0m\u001b[0;36m0\u001b[0m\u001b[0;34m,\u001b[0m \u001b[0mflags\u001b[0m\u001b[0;34m=\u001b[0m\u001b[0;36m0\u001b[0m\u001b[0;34m)\u001b[0m\u001b[0;34m:\u001b[0m\u001b[0;34m\u001b[0m\u001b[0;34m\u001b[0m\u001b[0m\n",
            "\u001b[0;31mKeyboardInterrupt\u001b[0m: "
          ]
        }
      ],
      "source": [
        "import pandas as pd\n",
        "import numpy as np\n",
        "import statistics as st\n",
        "from scipy import stats\n",
        "import os\n",
        "import matplotlib.pyplot as plt\n",
        "import seaborn as sns\n"
      ]
    },
    {
      "cell_type": "markdown",
      "source": [
        "**1. Statistics Description:**"
      ],
      "metadata": {
        "id": "LZdzf2MgApvE"
      }
    },
    {
      "cell_type": "markdown",
      "source": [
        "#DATASET order_items\n"
      ],
      "metadata": {
        "id": "3djYPHCt9Xt6"
      }
    },
    {
      "cell_type": "code",
      "source": [
        "from google.colab import drive\n",
        "drive.mount('/content/drive')"
      ],
      "metadata": {
        "colab": {
          "base_uri": "https://localhost:8080/",
          "height": 304
        },
        "id": "gLKVUmjETQeQ",
        "outputId": "37ecc4e8-f1fb-40b9-be14-ed7e2c66dc94"
      },
      "execution_count": null,
      "outputs": [
        {
          "output_type": "error",
          "ename": "KeyboardInterrupt",
          "evalue": "",
          "traceback": [
            "\u001b[0;31m---------------------------------------------------------------------------\u001b[0m",
            "\u001b[0;31mKeyboardInterrupt\u001b[0m                         Traceback (most recent call last)",
            "\u001b[0;32m<ipython-input-2-d5df0069828e>\u001b[0m in \u001b[0;36m<cell line: 2>\u001b[0;34m()\u001b[0m\n\u001b[1;32m      1\u001b[0m \u001b[0;32mfrom\u001b[0m \u001b[0mgoogle\u001b[0m\u001b[0;34m.\u001b[0m\u001b[0mcolab\u001b[0m \u001b[0;32mimport\u001b[0m \u001b[0mdrive\u001b[0m\u001b[0;34m\u001b[0m\u001b[0;34m\u001b[0m\u001b[0m\n\u001b[0;32m----> 2\u001b[0;31m \u001b[0mdrive\u001b[0m\u001b[0;34m.\u001b[0m\u001b[0mmount\u001b[0m\u001b[0;34m(\u001b[0m\u001b[0;34m'/content/drive'\u001b[0m\u001b[0;34m)\u001b[0m\u001b[0;34m\u001b[0m\u001b[0;34m\u001b[0m\u001b[0m\n\u001b[0m",
            "\u001b[0;32m/usr/local/lib/python3.10/dist-packages/google/colab/drive.py\u001b[0m in \u001b[0;36mmount\u001b[0;34m(mountpoint, force_remount, timeout_ms, readonly)\u001b[0m\n\u001b[1;32m     98\u001b[0m \u001b[0;32mdef\u001b[0m \u001b[0mmount\u001b[0m\u001b[0;34m(\u001b[0m\u001b[0mmountpoint\u001b[0m\u001b[0;34m,\u001b[0m \u001b[0mforce_remount\u001b[0m\u001b[0;34m=\u001b[0m\u001b[0;32mFalse\u001b[0m\u001b[0;34m,\u001b[0m \u001b[0mtimeout_ms\u001b[0m\u001b[0;34m=\u001b[0m\u001b[0;36m120000\u001b[0m\u001b[0;34m,\u001b[0m \u001b[0mreadonly\u001b[0m\u001b[0;34m=\u001b[0m\u001b[0;32mFalse\u001b[0m\u001b[0;34m)\u001b[0m\u001b[0;34m:\u001b[0m\u001b[0;34m\u001b[0m\u001b[0;34m\u001b[0m\u001b[0m\n\u001b[1;32m     99\u001b[0m   \u001b[0;34m\"\"\"Mount your Google Drive at the specified mountpoint path.\"\"\"\u001b[0m\u001b[0;34m\u001b[0m\u001b[0;34m\u001b[0m\u001b[0m\n\u001b[0;32m--> 100\u001b[0;31m   return _mount(\n\u001b[0m\u001b[1;32m    101\u001b[0m       \u001b[0mmountpoint\u001b[0m\u001b[0;34m,\u001b[0m\u001b[0;34m\u001b[0m\u001b[0;34m\u001b[0m\u001b[0m\n\u001b[1;32m    102\u001b[0m       \u001b[0mforce_remount\u001b[0m\u001b[0;34m=\u001b[0m\u001b[0mforce_remount\u001b[0m\u001b[0;34m,\u001b[0m\u001b[0;34m\u001b[0m\u001b[0;34m\u001b[0m\u001b[0m\n",
            "\u001b[0;32m/usr/local/lib/python3.10/dist-packages/google/colab/drive.py\u001b[0m in \u001b[0;36m_mount\u001b[0;34m(mountpoint, force_remount, timeout_ms, ephemeral, readonly)\u001b[0m\n\u001b[1;32m    135\u001b[0m   )\n\u001b[1;32m    136\u001b[0m   \u001b[0;32mif\u001b[0m \u001b[0mephemeral\u001b[0m\u001b[0;34m:\u001b[0m\u001b[0;34m\u001b[0m\u001b[0;34m\u001b[0m\u001b[0m\n\u001b[0;32m--> 137\u001b[0;31m     _message.blocking_request(\n\u001b[0m\u001b[1;32m    138\u001b[0m         \u001b[0;34m'request_auth'\u001b[0m\u001b[0;34m,\u001b[0m\u001b[0;34m\u001b[0m\u001b[0;34m\u001b[0m\u001b[0m\n\u001b[1;32m    139\u001b[0m         \u001b[0mrequest\u001b[0m\u001b[0;34m=\u001b[0m\u001b[0;34m{\u001b[0m\u001b[0;34m'authType'\u001b[0m\u001b[0;34m:\u001b[0m \u001b[0;34m'dfs_ephemeral'\u001b[0m\u001b[0;34m}\u001b[0m\u001b[0;34m,\u001b[0m\u001b[0;34m\u001b[0m\u001b[0;34m\u001b[0m\u001b[0m\n",
            "\u001b[0;32m/usr/local/lib/python3.10/dist-packages/google/colab/_message.py\u001b[0m in \u001b[0;36mblocking_request\u001b[0;34m(request_type, request, timeout_sec, parent)\u001b[0m\n\u001b[1;32m    174\u001b[0m       \u001b[0mrequest_type\u001b[0m\u001b[0;34m,\u001b[0m \u001b[0mrequest\u001b[0m\u001b[0;34m,\u001b[0m \u001b[0mparent\u001b[0m\u001b[0;34m=\u001b[0m\u001b[0mparent\u001b[0m\u001b[0;34m,\u001b[0m \u001b[0mexpect_reply\u001b[0m\u001b[0;34m=\u001b[0m\u001b[0;32mTrue\u001b[0m\u001b[0;34m\u001b[0m\u001b[0;34m\u001b[0m\u001b[0m\n\u001b[1;32m    175\u001b[0m   )\n\u001b[0;32m--> 176\u001b[0;31m   \u001b[0;32mreturn\u001b[0m \u001b[0mread_reply_from_input\u001b[0m\u001b[0;34m(\u001b[0m\u001b[0mrequest_id\u001b[0m\u001b[0;34m,\u001b[0m \u001b[0mtimeout_sec\u001b[0m\u001b[0;34m)\u001b[0m\u001b[0;34m\u001b[0m\u001b[0;34m\u001b[0m\u001b[0m\n\u001b[0m",
            "\u001b[0;32m/usr/local/lib/python3.10/dist-packages/google/colab/_message.py\u001b[0m in \u001b[0;36mread_reply_from_input\u001b[0;34m(message_id, timeout_sec)\u001b[0m\n\u001b[1;32m     94\u001b[0m     \u001b[0mreply\u001b[0m \u001b[0;34m=\u001b[0m \u001b[0m_read_next_input_message\u001b[0m\u001b[0;34m(\u001b[0m\u001b[0;34m)\u001b[0m\u001b[0;34m\u001b[0m\u001b[0;34m\u001b[0m\u001b[0m\n\u001b[1;32m     95\u001b[0m     \u001b[0;32mif\u001b[0m \u001b[0mreply\u001b[0m \u001b[0;34m==\u001b[0m \u001b[0m_NOT_READY\u001b[0m \u001b[0;32mor\u001b[0m \u001b[0;32mnot\u001b[0m \u001b[0misinstance\u001b[0m\u001b[0;34m(\u001b[0m\u001b[0mreply\u001b[0m\u001b[0;34m,\u001b[0m \u001b[0mdict\u001b[0m\u001b[0;34m)\u001b[0m\u001b[0;34m:\u001b[0m\u001b[0;34m\u001b[0m\u001b[0;34m\u001b[0m\u001b[0m\n\u001b[0;32m---> 96\u001b[0;31m       \u001b[0mtime\u001b[0m\u001b[0;34m.\u001b[0m\u001b[0msleep\u001b[0m\u001b[0;34m(\u001b[0m\u001b[0;36m0.025\u001b[0m\u001b[0;34m)\u001b[0m\u001b[0;34m\u001b[0m\u001b[0;34m\u001b[0m\u001b[0m\n\u001b[0m\u001b[1;32m     97\u001b[0m       \u001b[0;32mcontinue\u001b[0m\u001b[0;34m\u001b[0m\u001b[0;34m\u001b[0m\u001b[0m\n\u001b[1;32m     98\u001b[0m     if (\n",
            "\u001b[0;31mKeyboardInterrupt\u001b[0m: "
          ]
        }
      ]
    },
    {
      "cell_type": "code",
      "source": [
        "df_item = pd.read_csv(\"/content/drive/MyDrive/Phân tích thống kê/Project/olist_dataset/olist_order_items_dataset.csv\")\n",
        "df_reviews = pd.read_csv(\"/content/drive/MyDrive/Phân tích thống kê/Project/olist_dataset/olist_order_reviews_dataset.csv\")\n",
        "df_orders = pd.read_csv(\"/content/drive/MyDrive/Phân tích thống kê/Project/olist_dataset/olist_orders_dataset.csv\")\n",
        "df_products = pd.read_csv(\"/content/drive/MyDrive/Phân tích thống kê/Project/olist_dataset/olist_products_dataset.csv\")\n",
        "df_geolocation = pd.read_csv(\"/content/drive/MyDrive/Phân tích thống kê/Project/olist_dataset/olist_geolocation_dataset.csv\")\n",
        "df_sellers = pd.read_csv(\"/content/drive/MyDrive/Phân tích thống kê/Project/olist_dataset/olist_sellers_dataset.csv\")\n",
        "df_order_pay = pd.read_csv(\"/content/drive/MyDrive/Phân tích thống kê/Project/olist_dataset/olist_order_payments_dataset.csv\")\n",
        "df_customers = pd.read_csv(\"/content/drive/MyDrive/Phân tích thống kê/Project/olist_dataset/olist_customers_dataset.csv\")\n",
        "df_category = pd.read_csv(\"/content/drive/MyDrive/Phân tích thống kê/Project/olist_dataset/product_category_name_translation.csv\")"
      ],
      "metadata": {
        "id": "n8skh3_8oMeL"
      },
      "execution_count": null,
      "outputs": []
    },
    {
      "cell_type": "code",
      "source": [
        "# Check information of each DataFrame\n",
        "df_item.info()\n",
        "df_reviews.info()\n",
        "df_orders.info()\n",
        "df_products.info()\n",
        "df_geolocation.info()\n",
        "df_sellers.info()\n",
        "df_order_pay.info()\n",
        "df_customers.info()\n",
        "df_category.info()"
      ],
      "metadata": {
        "id": "pgMvtShVdwo6",
        "collapsed": true
      },
      "execution_count": null,
      "outputs": []
    },
    {
      "cell_type": "markdown",
      "source": [
        "#Calculate the central trend measures"
      ],
      "metadata": {
        "id": "PBITFPsPp8xk"
      }
    },
    {
      "cell_type": "markdown",
      "source": [
        "**Tính các chỉ số thống kê về đơn hàng của khách hàng**"
      ],
      "metadata": {
        "id": "O88B5L4CkXjm"
      }
    },
    {
      "cell_type": "markdown",
      "source": [
        "**Products**"
      ],
      "metadata": {
        "id": "7C67TvT1kyeh"
      }
    },
    {
      "cell_type": "code",
      "source": [
        "product_sales = df_item.groupby('product_id').size().reset_index(name='total_sales')\n",
        "\n",
        "# Sort products by the number of sales in descending order\n",
        "product_sales = product_sales.sort_values(by='total_sales', ascending=False)\n",
        "\n",
        "# Display the top 10 best-selling products\n",
        "top_10_products = product_sales.head(10)\n",
        "print(top_10_products)\n",
        "\n",
        "# Plot a bar chart for the top 10 best-selling products\n",
        "plt.figure(figsize=(12, 8))\n",
        "sns.barplot(x='total_sales', y='product_id', data=top_10_products, palette='viridis')\n",
        "plt.title(\"Top 10 Best-Selling Products\")\n",
        "plt.xlabel(\"Total Sales\")\n",
        "plt.ylabel(\"Product ID\")\n",
        "plt.show()\n"
      ],
      "metadata": {
        "id": "EyaI0NP4k5_u"
      },
      "execution_count": null,
      "outputs": []
    },
    {
      "cell_type": "code",
      "source": [
        "# Merge product and order data to include category information for each product\n",
        "df_merged = df_item.merge(df_products[['product_id', 'product_category_name']], on='product_id', how='left')\n",
        "\n",
        "# Calculate total sales for each category\n",
        "category_sales = df_merged['product_category_name'].value_counts().reset_index()\n",
        "category_sales.columns = ['product_category_name', 'total_sales']\n",
        "\n",
        "# Get the Top 10 best-selling categories\n",
        "top_10_categories = category_sales.head(10)\n",
        "\n",
        "# Merge with the translation table to add English names for the categories\n",
        "top_10_categories = top_10_categories.merge(df_category, on='product_category_name', how='left')\n",
        "\n",
        "# Display the result table\n",
        "print(\"Top 10 Product Categories by Total Sales with English Names:\")\n",
        "print(top_10_categories)\n",
        "\n",
        "# Plot a bar chart for the Top 10 categories with English names\n",
        "plt.figure(figsize=(12, 8))\n",
        "sns.barplot(x='total_sales', y='product_category_name_english', data=top_10_categories, palette='viridis')\n",
        "plt.title(\"Top 10 Product Categories by Total Sales (English Names)\")\n",
        "plt.xlabel(\"Total Sales\")\n",
        "plt.ylabel(\"Product Category (English)\")\n",
        "plt.show()\n"
      ],
      "metadata": {
        "id": "YjPDdAMzq-yY"
      },
      "execution_count": null,
      "outputs": []
    },
    {
      "cell_type": "code",
      "source": [
        "import numpy as np\n",
        "\n",
        "# Calculate central tendency and dispersion measures for total sales of the top 10 categories\n",
        "mean_sales = top_10_categories['total_sales'].mean()\n",
        "median_sales = top_10_categories['total_sales'].median()\n",
        "mode_sales = top_10_categories['total_sales'].mode().values[0]  # Get the first mode value if multiple modes exist\n",
        "\n",
        "range_sales = top_10_categories['total_sales'].max() - top_10_categories['total_sales'].min()\n",
        "variance_sales = top_10_categories['total_sales'].var()\n",
        "std_dev_sales = top_10_categories['total_sales'].std()\n",
        "\n",
        "# Print the results\n",
        "print(\"Central Trend Measures for Total Sales of Top 10 Categories:\")\n",
        "print(f\"Mean: {mean_sales}\")\n",
        "print(f\"Median: {median_sales}\")\n",
        "print(f\"Mode: {mode_sales}\")\n",
        "print(\"\\nDispersion Measures for Total Sales of Top 10 Categories:\")\n",
        "print(f\"Range: {range_sales}\")\n",
        "print(f\"Variance: {variance_sales}\")\n",
        "print(f\"Standard Deviation: {std_dev_sales}\")\n"
      ],
      "metadata": {
        "id": "2BaRMyR8sSmG"
      },
      "execution_count": null,
      "outputs": []
    },
    {
      "cell_type": "code",
      "source": [
        "import matplotlib.pyplot as plt\n",
        "import seaborn as sns\n",
        "\n",
        "plt.figure(figsize=(10, 6))\n",
        "sns.histplot(top_10_categories['total_sales'], bins=10, kde=True)\n",
        "plt.title(\"Histogram of Total Sales for Top 10 Categories\")\n",
        "plt.xlabel(\"Total Sales\")\n",
        "plt.ylabel(\"Frequency\")\n",
        "plt.show()\n"
      ],
      "metadata": {
        "id": "nHNs9yNcsWgj"
      },
      "execution_count": null,
      "outputs": []
    },
    {
      "cell_type": "code",
      "source": [
        "plt.figure(figsize=(10, 6))\n",
        "sns.boxplot(x=top_10_categories['total_sales'])\n",
        "plt.title(\"Box Plot of Total Sales for Top 10 Categories\")\n",
        "plt.xlabel(\"Total Sales\")\n",
        "plt.show()\n"
      ],
      "metadata": {
        "id": "5g9RS0p_saxb"
      },
      "execution_count": null,
      "outputs": []
    },
    {
      "cell_type": "code",
      "source": [
        "plt.figure(figsize=(12, 8))\n",
        "sns.scatterplot(x='product_category_name_english', y='total_sales', data=top_10_categories, s=100)\n",
        "plt.title(\"Scatter Plot of Total Sales by Product Category (Top 10)\")\n",
        "plt.xlabel(\"Product Category (English)\")\n",
        "plt.ylabel(\"Total Sales\")\n",
        "plt.xticks(rotation=45)\n",
        "plt.show()\n"
      ],
      "metadata": {
        "id": "yT7osmaIscEU"
      },
      "execution_count": null,
      "outputs": []
    },
    {
      "cell_type": "markdown",
      "source": [
        "**Average Price that Customers often purchase**"
      ],
      "metadata": {
        "id": "a-I30SjXlMaI"
      }
    },
    {
      "cell_type": "code",
      "source": [
        "# Calculate the average price for each product\n",
        "product_prices = df_item.groupby('product_id')['price'].mean().reset_index(name='avg_price')\n",
        "\n",
        "# Display basic statistics about product prices\n",
        "mean_price = product_prices['avg_price'].mean()\n",
        "median_price = product_prices['avg_price'].median()\n",
        "mode_price = product_prices['avg_price'].mode()[0]\n",
        "\n",
        "print(\"Mean Product Price:\", mean_price)\n",
        "print(\"Median Product Price:\", median_price)\n",
        "print(\"Mode Product Price:\", mode_price)\n",
        "\n",
        "# Histogram to visualize the distribution of product prices\n",
        "plt.figure(figsize=(12, 8))\n",
        "sns.histplot(product_prices['avg_price'], bins=30, kde=True)\n",
        "plt.title(\"Distribution of Average Product Prices\")\n",
        "plt.xlabel(\"Average Product Price\")\n",
        "plt.ylabel(\"Frequency\")\n",
        "plt.show()\n"
      ],
      "metadata": {
        "id": "uHokXySFlFwQ"
      },
      "execution_count": null,
      "outputs": []
    },
    {
      "cell_type": "markdown",
      "source": [
        "**When Customers mostly buy**"
      ],
      "metadata": {
        "id": "500YNn4ElpLo"
      }
    },
    {
      "cell_type": "code",
      "source": [
        "# Convert the `order_purchase_timestamp` column to datetime format\n",
        "df_orders['order_purchase_timestamp'] = pd.to_datetime(df_orders['order_purchase_timestamp'])\n",
        "\n",
        "# Extract information about day, month, quarter, and season of the year\n",
        "df_orders['purchase_day'] = df_orders['order_purchase_timestamp'].dt.day_name()  # Day of the week\n",
        "df_orders['purchase_month'] = df_orders['order_purchase_timestamp'].dt.month  # Month\n",
        "df_orders['purchase_quarter'] = df_orders['order_purchase_timestamp'].dt.quarter  # Quarter\n",
        "\n",
        "# Define the season (spring, summer, fall, winter) based on the month\n",
        "def get_season(month):\n",
        "    if month in [3, 4, 5]:\n",
        "        return 'Spring'\n",
        "    elif month in [6, 7, 8]:\n",
        "        return 'Summer'\n",
        "    elif month in [9, 10, 11]:\n",
        "        return 'Fall'\n",
        "    else:\n",
        "        return 'Winter'\n",
        "\n",
        "df_orders['purchase_season'] = df_orders['purchase_month'].apply(get_season)\n",
        "\n",
        "# Check the results\n",
        "print(df_orders[['order_purchase_timestamp', 'purchase_day', 'purchase_month', 'purchase_quarter', 'purchase_season']].head())\n"
      ],
      "metadata": {
        "id": "IHnZFFpHloa3"
      },
      "execution_count": null,
      "outputs": []
    },
    {
      "cell_type": "code",
      "source": [
        "# Count the number of orders by quarter\n",
        "quarter_counts = df_orders['purchase_quarter'].value_counts().sort_index()\n",
        "\n",
        "# Plot the bar chart\n",
        "plt.figure(figsize=(10, 6))\n",
        "sns.barplot(x=quarter_counts.index, y=quarter_counts.values, palette='viridis')\n",
        "plt.title(\"Number of Orders by Quarter\")\n",
        "plt.xlabel(\"Quarter\")\n",
        "plt.ylabel(\"Number of Orders\")\n",
        "plt.show()\n"
      ],
      "metadata": {
        "id": "D3S8pw1XlyWL"
      },
      "execution_count": null,
      "outputs": []
    },
    {
      "cell_type": "code",
      "source": [
        "# Count the number of orders by season\n",
        "season_counts = df_orders['purchase_season'].value_counts()\n",
        "\n",
        "# Plot the bar chart\n",
        "plt.figure(figsize=(10, 6))\n",
        "sns.barplot(x=season_counts.index, y=season_counts.values, palette='viridis')\n",
        "plt.title(\"Number of Orders by Season\")\n",
        "plt.xlabel(\"Season\")\n",
        "plt.ylabel(\"Number of Orders\")\n",
        "plt.show()\n"
      ],
      "metadata": {
        "id": "kq4KB1wVl1UO"
      },
      "execution_count": null,
      "outputs": []
    },
    {
      "cell_type": "code",
      "source": [
        "# Convert the `order_purchase_timestamp` column to datetime format\n",
        "df_orders['order_purchase_timestamp'] = pd.to_datetime(df_orders['order_purchase_timestamp'])\n",
        "\n",
        "# Extract the month from `order_purchase_timestamp`\n",
        "df_orders['purchase_month'] = df_orders['order_purchase_timestamp'].dt.month\n",
        "\n",
        "# Define the season based on the month\n",
        "def get_season(month):\n",
        "    if month in [3, 4, 5]:\n",
        "        return 'Spring'\n",
        "    elif month in [6, 7, 8]:\n",
        "        return 'Summer'\n",
        "    elif month in [9, 10, 11]:\n",
        "        return 'Fall'\n",
        "    else:\n",
        "        return 'Winter'\n",
        "\n",
        "df_orders['purchase_season'] = df_orders['purchase_month'].apply(get_season)\n",
        "\n",
        "# Merge df_item and df_products to get category information for each product\n",
        "df_combined = df_item.merge(df_products[['product_id', 'product_category_name']], on='product_id', how='left')\n",
        "\n",
        "# Merge with df_orders to include seasonal purchase information\n",
        "df_combined = df_combined.merge(df_orders[['order_id', 'purchase_season']], on='order_id', how='left')\n",
        "\n",
        "# Calculate the total sales for each category by season\n",
        "category_season_sales = df_combined.groupby(['product_category_name', 'purchase_season']).size().reset_index(name='total_sales')\n",
        "\n",
        "# Find the best-selling category for each season\n",
        "best_selling_categories = category_season_sales.loc[category_season_sales.groupby('purchase_season')['total_sales'].idxmax()]\n",
        "\n",
        "print(\"Best-Selling Categories by Season:\")\n",
        "print(best_selling_categories)\n"
      ],
      "metadata": {
        "id": "0wfb40GImEsB"
      },
      "execution_count": null,
      "outputs": []
    },
    {
      "cell_type": "code",
      "source": [
        "# Bar chart showing the best-selling categories for each season\n",
        "plt.figure(figsize=(10, 6))\n",
        "sns.barplot(data=best_selling_categories, x='purchase_season', y='total_sales', hue='product_category_name')\n",
        "plt.title(\"Best-Selling Categories by Season\")\n",
        "plt.xlabel(\"Season\")\n",
        "plt.ylabel(\"Total Sales\")\n",
        "plt.legend(title=\"Product Category\")\n",
        "plt.show()\n"
      ],
      "metadata": {
        "id": "s9QbqtfKmKY3"
      },
      "execution_count": null,
      "outputs": []
    },
    {
      "cell_type": "markdown",
      "source": [
        "**RFM**"
      ],
      "metadata": {
        "id": "1jWJTt9fnxqf"
      }
    },
    {
      "cell_type": "code",
      "source": [
        "import pandas as pd\n",
        "import matplotlib.pyplot as plt\n",
        "import seaborn as sns\n",
        "\n",
        "# Convert `order_purchase_timestamp` to datetime format\n",
        "df_orders['order_purchase_timestamp'] = pd.to_datetime(df_orders['order_purchase_timestamp'])\n",
        "\n",
        "# Reference date: the day after the last purchase date in the dataset\n",
        "reference_date = df_orders['order_purchase_timestamp'].max() + pd.Timedelta(days=1)\n",
        "\n",
        "# Calculate Recency and Frequency at the customer level\n",
        "rfm = df_orders.groupby('customer_id').agg({\n",
        "    'order_purchase_timestamp': lambda x: (reference_date - x.max()).days,  # Recency\n",
        "    'order_id': 'nunique',  # Frequency\n",
        "}).reset_index()\n",
        "\n",
        "# Calculate Monetary value (total price per customer) using order_items\n",
        "order_monetary = df_item.groupby('order_id')['price'].sum().reset_index()\n",
        "orders_with_value = df_orders.merge(order_monetary, on='order_id', how='left')\n",
        "monetary = orders_with_value.groupby('customer_id')['price'].sum().reset_index().rename(columns={'price': 'Monetary'})\n",
        "\n",
        "# Merge Monetary value into the RFM table\n",
        "rfm = rfm.merge(monetary, on='customer_id', how='left')\n",
        "\n",
        "# Rename columns for clarity\n",
        "rfm.rename(columns={\n",
        "    'order_purchase_timestamp': 'Recency',\n",
        "    'order_id': 'Frequency',\n",
        "}, inplace=True)\n",
        "\n",
        "# Bin Recency, Frequency, and Monetary for scoring\n",
        "rfm['R_Score'] = pd.cut(rfm['Recency'], bins=5, labels=[5, 4, 3, 2, 1], include_lowest=True)\n",
        "rfm['F_Score'] = pd.cut(rfm['Frequency'], bins=5, labels=[1, 2, 3, 4, 5], include_lowest=True)\n",
        "rfm['M_Score'] = pd.cut(rfm['Monetary'], bins=5, labels=[1, 2, 3, 4, 5], include_lowest=True)\n",
        "\n",
        "# Create RFM segment by combining scores\n",
        "rfm['RFM_Segment'] = rfm['R_Score'].astype(str) + rfm['F_Score'].astype(str) + rfm['M_Score'].astype(str)\n",
        "\n",
        "# Check for missing or invalid data before processing\n",
        "print(\"Missing values in RFM dataset:\")\n",
        "print(rfm.isnull().sum())\n",
        "\n",
        "# Ensure 'Frequency' and 'Monetary' values are valid (not zero or NaN)\n",
        "rfm = rfm[(rfm['Frequency'] > 0) & (rfm['Monetary'] > 0)]\n",
        "\n",
        "# Assign customer segments based on RFM_Segment\n",
        "# Assign customer segments based on RFM_Segment\n",
        "def assign_segment(rfm_segment):\n",
        "    if rfm_segment in [\"555\", \"554\", \"545\", \"454\", \"445\", \"455\"]:\n",
        "        return \"Champions\"\n",
        "    elif rfm_segment in [\"543\", \"544\", \"435\", \"355\", \"354\", \"345\", \"344\", \"335\"]:\n",
        "        return \"Loyal Customers\"\n",
        "    elif rfm_segment in [\"553\", \"551\", \"552\", \"541\", \"542\", \"533\", \"532\", \"531\",\n",
        "                         \"452\", \"451\", \"442\", \"441\", \"431\", \"453\", \"433\", \"432\",\n",
        "                         \"423\", \"353\", \"352\", \"351\", \"342\", \"341\", \"333\", \"323\"]:\n",
        "        return \"Potential Loyalists\"\n",
        "    elif rfm_segment in [\"512\", \"511\", \"422\", \"421\", \"412\", \"411\", \"311\"]:\n",
        "        return \"New Customers\"\n",
        "    elif rfm_segment in [\"525\", \"524\", \"523\", \"522\", \"521\", \"515\", \"514\", \"513\",\n",
        "                         \"425\", \"424\", \"414\", \"415\", \"315\", \"314\", \"313\"]:\n",
        "        return \"Promising\"\n",
        "    elif rfm_segment in [\"535\", \"534\", \"433\", \"434\", \"343\", \"334\", \"325\", \"324\"]:\n",
        "        return \"Need Attention\"\n",
        "    elif rfm_segment in [\"331\", \"321\", \"312\", \"221\", \"213\", \"231\", \"241\", \"251\"]:\n",
        "        return \"About To Sleep\"\n",
        "    elif rfm_segment in [\"255\", \"254\", \"245\", \"244\", \"253\", \"252\", \"243\", \"242\",\n",
        "                         \"235\", \"234\", \"225\", \"224\", \"153\", \"152\", \"145\", \"143\",\n",
        "                         \"142\", \"135\", \"134\", \"133\", \"125\", \"124\"]:\n",
        "        return \"At Risk\"\n",
        "    elif rfm_segment in [\"155\", \"154\", \"144\", \"214\", \"215\", \"115\", \"114\", \"113\"]:\n",
        "        return \"Cannot Lose Them\"\n",
        "    elif rfm_segment in [\"332\", \"322\", \"233\", \"232\", \"223\", \"222\", \"132\", \"123\",\n",
        "                         \"122\", \"211\"]:\n",
        "        return \"Hibernating\"\n",
        "    elif rfm_segment in [\"111\", \"112\", \"121\", \"131\", \"141\", \"151\"]:\n",
        "        return \"Lost Customers\"\n",
        "    else:\n",
        "        return \"Other\"\n",
        "\n",
        "# Apply the updated segment assignment\n",
        "rfm['Customer_Segment'] = rfm['RFM_Segment'].apply(assign_segment)\n",
        "\n",
        "# Plot pie chart of customer segments\n",
        "segment_counts = rfm['Customer_Segment'].value_counts(normalize=True) * 100\n",
        "\n",
        "# Lọc chỉ những nhóm có tỷ lệ >= 1%\n",
        "filtered_segment_counts = segment_counts[segment_counts >= 1]\n",
        "\n",
        "# Vẽ biểu đồ tròn mà không sử dụng explode\n",
        "plt.figure(figsize=(10, 8))\n",
        "wedges, texts, autotexts = plt.pie(\n",
        "    filtered_segment_counts,\n",
        "    labels=filtered_segment_counts.index,\n",
        "    autopct='%1.1f%%',\n",
        "    startangle=140,\n",
        "    colors=sns.color_palette(\"pastel\"),\n",
        "    pctdistance=0.85  # Định vị tỷ lệ phần trăm gần hơn tâm\n",
        ")\n",
        "\n",
        "# Cải thiện định dạng nhãn\n",
        "for text in texts:\n",
        "    text.set_fontsize(10)\n",
        "for autotext in autotexts:\n",
        "    autotext.set_fontsize(9)\n",
        "    autotext.set_color(\"black\")\n",
        "\n",
        "plt.title(\"Customer Segmentation by RFM (Filtered, >= 1%)\", fontsize=14, fontweight='bold')\n",
        "plt.tight_layout()\n",
        "plt.show()\n",
        "\n",
        "# Vẽ biểu đồ cột sau khi lọc\n",
        "plt.figure(figsize=(12, 6))\n",
        "sns.barplot(\n",
        "    x=filtered_segment_counts.index,\n",
        "    y=filtered_segment_counts.values,\n",
        "    palette=\"pastel\",\n",
        "    edgecolor=\"black\"\n",
        ")\n",
        "plt.title(\"Customer Segmentation by RFM (Filtered, >= 1%)\", fontsize=14, fontweight='bold')\n",
        "plt.xlabel(\"Customer Segment\", fontsize=12)\n",
        "plt.ylabel(\"Percentage of Customers (%)\", fontsize=12)\n",
        "\n",
        "# Thêm giá trị trên mỗi cột\n",
        "for index, value in enumerate(filtered_segment_counts.values):\n",
        "    plt.text(index, value + 0.5, f\"{value:.1f}%\", ha='center', fontsize=10)\n",
        "\n",
        "plt.xticks(rotation=45, ha='right')\n",
        "plt.tight_layout()\n",
        "plt.show()\n"
      ],
      "metadata": {
        "id": "LvKGA2XanxV-"
      },
      "execution_count": null,
      "outputs": []
    },
    {
      "cell_type": "code",
      "source": [
        "!pip install squarify"
      ],
      "metadata": {
        "id": "_UybYToUgdLV"
      },
      "execution_count": null,
      "outputs": []
    },
    {
      "cell_type": "code",
      "source": [
        "orders_with_value = orders_with_value.merge(\n",
        "    df_customers[['customer_id', 'customer_state']],\n",
        "    on='customer_id',\n",
        "    how='left'\n",
        ")\n",
        "print(orders_with_value.info())\n"
      ],
      "metadata": {
        "collapsed": true,
        "id": "bG-CI_QosSK3"
      },
      "execution_count": null,
      "outputs": []
    },
    {
      "cell_type": "code",
      "source": [
        "import pandas as pd\n",
        "import matplotlib.pyplot as plt\n",
        "import seaborn as sns\n",
        "import squarify  # If not installed, run: pip install squarify\n",
        "\n",
        "# Use the correct column for customer state\n",
        "state_column = 'customer_state'\n",
        "\n",
        "# Group by customer_state and calculate total revenue\n",
        "state_revenue = orders_with_value.groupby(state_column)['price'].sum().reset_index().rename(columns={'price': 'revenue'})\n",
        "\n",
        "# Calculate the percentage contribution of each state\n",
        "state_revenue['percentage'] = (state_revenue['revenue'] / state_revenue['revenue'].sum()) * 100\n",
        "\n",
        "# Sort states by revenue in descending order and take the top 10\n",
        "top_10_states = state_revenue.sort_values(by='revenue', ascending=False).head(10)\n",
        "\n",
        "# Treemap showing revenue values\n",
        "plt.figure(figsize=(12, 8))\n",
        "squarify.plot(\n",
        "    sizes=top_10_states['revenue'],\n",
        "    label=[f\"{state}\\nR${revenue:,.2f}\" for state, revenue in zip(top_10_states[state_column], top_10_states['revenue'])],\n",
        "    alpha=0.8,\n",
        "    color=sns.color_palette('coolwarm', len(top_10_states))\n",
        ")\n",
        "\n",
        "plt.title(\"Top 10 Highest Revenue by State (BRL)\", fontsize=16, fontweight='bold')\n",
        "plt.axis('off')  # Hide the axes\n",
        "plt.tight_layout()\n",
        "plt.show()\n",
        "\n",
        "# Treemap showing percentage contribution\n",
        "plt.figure(figsize=(12, 8))\n",
        "squarify.plot(\n",
        "    sizes=top_10_states['revenue'],\n",
        "    label=[\n",
        "        f\"{state}\\n{percentage:.2f}%\"\n",
        "        for state, percentage in zip(top_10_states[state_column], top_10_states['percentage'])\n",
        "    ],\n",
        "    alpha=0.8,\n",
        "    color=sns.color_palette('coolwarm', len(top_10_states))\n",
        ")\n",
        "\n",
        "plt.title(\"Top 10 States Revenue Contribution (%)\", fontsize=16, fontweight='bold')\n",
        "plt.axis('off')  # Hide the axes\n",
        "plt.tight_layout()\n",
        "plt.show()\n"
      ],
      "metadata": {
        "id": "d32m9ysQbI2N"
      },
      "execution_count": null,
      "outputs": []
    },
    {
      "cell_type": "code",
      "source": [
        "# Import necessary libraries\n",
        "import pandas as pd\n",
        "from scipy.stats import ttest_ind, chi2_contingency\n",
        "import numpy as np\n",
        "import statsmodels.stats.api as sms\n",
        "import matplotlib.pyplot as plt\n",
        "import seaborn as sns\n",
        "\n",
        "# Convert date columns to datetime format\n",
        "df_reviews['review_creation_date'] = pd.to_datetime(df_reviews['review_creation_date'])\n",
        "\n",
        "# Extract month and season information\n",
        "df_reviews['month'] = df_reviews['review_creation_date'].dt.month\n",
        "\n",
        "# Define a function to classify seasons\n",
        "def get_season(month):\n",
        "    if month in [3, 4, 5]:\n",
        "        return 'Spring'\n",
        "    elif month in [6, 7, 8]:\n",
        "        return 'Summer'\n",
        "    elif month in [9, 10, 11]:\n",
        "        return 'Fall'\n",
        "    else:\n",
        "        return 'Winter'\n",
        "\n",
        "df_reviews['season'] = df_reviews['month'].apply(get_season)\n",
        "\n",
        "# Hypothesis Testing: T-Test for comparing review scores between two seasons (e.g., Spring and Summer)\n",
        "spring_reviews = df_reviews[df_reviews['season'] == 'Spring']['review_score']\n",
        "summer_reviews = df_reviews[df_reviews['season'] == 'Summer']['review_score']\n",
        "t_stat, t_p_value = ttest_ind(spring_reviews, summer_reviews, nan_policy='omit')\n",
        "\n",
        "# Chi-Square Test: Comparing frequency of review scores across seasons\n",
        "review_season_table = pd.crosstab(df_reviews['season'], df_reviews['review_score'])\n",
        "chi2_stat, chi2_p_value, _, _ = chi2_contingency(review_season_table)\n",
        "\n",
        "# Confidence Interval for Mean Review Scores in Spring\n",
        "spring_mean = np.mean(spring_reviews)\n",
        "ci_lower, ci_upper = sms.DescrStatsW(spring_reviews).tconfint_mean()\n",
        "\n",
        "# Visualize T-Test results (Spring vs Summer mean review scores)\n",
        "mean_scores = {\n",
        "    \"Spring\": spring_mean,\n",
        "    \"Summer\": np.mean(summer_reviews)\n",
        "}\n",
        "plt.figure(figsize=(8, 6))\n",
        "plt.bar(mean_scores.keys(), mean_scores.values(), color=['blue', 'orange'], alpha=0.7, edgecolor='black')\n",
        "plt.title(\"Mean Review Scores: Spring vs Summer\", fontsize=14, fontweight='bold')\n",
        "plt.ylabel(\"Mean Review Score\", fontsize=12)\n",
        "plt.ylim(0, 5)  # Assuming review scores are on a scale of 1-5\n",
        "for index, value in enumerate(mean_scores.values()):\n",
        "    plt.text(index, value + 0.05, f\"{value:.2f}\", ha='center', fontsize=12)\n",
        "plt.show()\n",
        "\n",
        "# Visualize Chi-Square Test results (Frequency distribution of review scores across seasons)\n",
        "review_season_table_percentage = review_season_table.div(review_season_table.sum(axis=1), axis=0) * 100\n",
        "review_season_table_percentage.plot(kind='bar', stacked=True, figsize=(10, 6), colormap='viridis', edgecolor='black')\n",
        "plt.title(\"Distribution of Review Scores Across Seasons\", fontsize=14, fontweight='bold')\n",
        "plt.ylabel(\"Percentage (%)\", fontsize=12)\n",
        "plt.xlabel(\"Season\", fontsize=12)\n",
        "plt.legend(title=\"Review Score\", bbox_to_anchor=(1.05, 1), loc='upper left', fontsize=10)\n",
        "plt.tight_layout()\n",
        "plt.show()\n",
        "\n",
        "# Visualize Confidence Interval for Spring Mean Review Scores\n",
        "plt.figure(figsize=(8, 6))\n",
        "plt.errorbar(x=[\"Spring\"], y=[spring_mean], yerr=[[spring_mean - ci_lower], [ci_upper - spring_mean]], fmt='o', color='blue', capsize=5, capthick=2, ecolor='black')\n",
        "plt.title(\"Confidence Interval for Spring Mean Review Score\", fontsize=14, fontweight='bold')\n",
        "plt.ylabel(\"Mean Review Score\", fontsize=12)\n",
        "plt.ylim(0, 5)\n",
        "plt.axhline(y=spring_mean, color='red', linestyle='--', linewidth=1, label=f\"Mean: {spring_mean:.2f}\")\n",
        "plt.legend(loc='upper right', fontsize=10)\n",
        "plt.show()\n"
      ],
      "metadata": {
        "id": "oNL2walJYDgw"
      },
      "execution_count": null,
      "outputs": []
    },
    {
      "cell_type": "markdown",
      "source": [
        "1. Mean Review Scores: Spring vs Summer\n",
        "Điểm nổi bật: Biểu đồ cột cho thấy điểm trung bình của Spring là 3.98 và của Summer là 4.21.\n",
        "Ý nghĩa: Sự khác biệt này có thể gợi ý rằng đánh giá của khách hàng thay đổi theo mùa, với điểm cao hơn vào mùa Summer.\n",
        "Hành động: Kiểm tra kỹ ý nghĩa thống kê từ T-Test (p-value) để xem liệu sự khác biệt này có ý nghĩa thống kê hay không.\n",
        "2. Distribution of Review Scores Across Seasons\n",
        "Điểm nổi bật: Biểu đồ phân bố theo phần trăm cho thấy đánh giá 5 sao chiếm ưu thế ở tất cả các mùa, nhưng tỷ lệ 4 sao và các mức đánh giá thấp hơn (1-3 sao) khác nhau giữa các mùa.\n",
        "Ý nghĩa: Các yếu tố theo mùa có thể ảnh hưởng đến mức độ hài lòng của khách hàng.\n",
        "Hành động: Sử dụng kết quả kiểm định Chi-Square để xem liệu sự khác biệt về phân bố này có ý nghĩa thống kê không.\n",
        "3. Confidence Interval for Spring Mean Review Score\n",
        "Điểm nổi bật: Biểu đồ hiển thị khoảng tin cậy hẹp, với trung bình Spring là 3.98.\n",
        "Ý nghĩa: Với khoảng tin cậy chặt chẽ, chúng ta có thể tự tin rằng điểm trung bình thực sự của Spring nằm trong khoảng này.\n",
        "Hành động: So sánh với các mùa khác để xác nhận sự khác biệt giữa các khoảng tin cậy."
      ],
      "metadata": {
        "id": "RWtgcRq4mZ5k"
      }
    },
    {
      "cell_type": "code",
      "source": [
        "# T-Test Analysis\n",
        "if t_p_value < 0.05:\n",
        "    print(\"T-Test: The difference in mean review scores between Spring and Summer is statistically significant.\")\n",
        "    print(f\"T-Statistic: {t_stat:.2f}, P-Value: {t_p_value:.5f}\")\n",
        "else:\n",
        "    print(\"T-Test: The difference in mean review scores between Spring and Summer is NOT statistically significant.\")\n",
        "    print(f\"T-Statistic: {t_stat:.2f}, P-Value: {t_p_value:.5f}\")\n",
        "\n",
        "# Chi-Square Analysis\n",
        "if chi2_p_value < 0.05:\n",
        "    print(\"Chi-Square Test: The distribution of review scores across seasons is statistically significant.\")\n",
        "    print(f\"Chi2-Statistic: {chi2_stat:.2f}, P-Value: {chi2_p_value:.5f}\")\n",
        "else:\n",
        "    print(\"Chi-Square Test: The distribution of review scores across seasons is NOT statistically significant.\")\n",
        "    print(f\"Chi2-Statistic: {chi2_stat:.2f}, P-Value: {chi2_p_value:.5f}\")\n",
        "\n",
        "# Confidence Interval Analysis\n",
        "print(f\"Spring Confidence Interval: ({ci_lower:.2f}, {ci_upper:.2f})\")\n",
        "print(f\"Spring Mean: {spring_mean:.2f}\")\n",
        "summer_ci_lower, summer_ci_upper = sms.DescrStatsW(summer_reviews).tconfint_mean()\n",
        "print(f\"Summer Confidence Interval: ({summer_ci_lower:.2f}, {summer_ci_upper:.2f})\")\n",
        "print(f\"Summer Mean: {np.mean(summer_reviews):.2f}\")\n",
        "\n",
        "# Comparing Confidence Intervals\n",
        "if ci_upper < summer_ci_lower or ci_lower > summer_ci_upper:\n",
        "    print(\"The confidence intervals for Spring and Summer do NOT overlap, indicating a statistically significant difference.\")\n",
        "else:\n",
        "    print(\"The confidence intervals for Spring and Summer overlap, indicating the difference might not be statistically significant.\")\n"
      ],
      "metadata": {
        "id": "g5ucZAf4js7K"
      },
      "execution_count": null,
      "outputs": []
    },
    {
      "cell_type": "code",
      "source": [
        "seasons = df_reviews['season'].unique()\n",
        "season_stats = {}\n",
        "\n",
        "for season in seasons:\n",
        "    reviews = df_reviews[df_reviews['season'] == season]['review_score']\n",
        "    mean = np.mean(reviews)\n",
        "    ci_lower, ci_upper = sms.DescrStatsW(reviews).tconfint_mean()\n",
        "    season_stats[season] = {\n",
        "        \"Mean\": mean,\n",
        "        \"CI_Lower\": ci_lower,\n",
        "        \"CI_Upper\": ci_upper,\n",
        "        \"Std_Dev\": np.std(reviews, ddof=1),\n",
        "    }\n",
        "\n",
        "print(\"Seasonal Statistics:\")\n",
        "for season, stats in season_stats.items():\n",
        "    print(f\"{season}: Mean = {stats['Mean']:.2f}, CI = ({stats['CI_Lower']:.2f}, {stats['CI_Upper']:.2f}), Std Dev = {stats['Std_Dev']:.2f}\")\n"
      ],
      "metadata": {
        "id": "uquzDLvGoK9M"
      },
      "execution_count": null,
      "outputs": []
    }
  ]
}